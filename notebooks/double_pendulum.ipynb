{
 "cells": [
  {
   "cell_type": "code",
   "execution_count": 4,
   "source": [
    "from physics_animation.double_pendulum2 import double_pendulum\n",
    "from IPython.display import HTML"
   ],
   "outputs": [],
   "metadata": {}
  },
  {
   "cell_type": "code",
   "execution_count": 5,
   "source": [
    "%matplotlib ipympl "
   ],
   "outputs": [],
   "metadata": {}
  },
  {
   "cell_type": "code",
   "execution_count": null,
   "source": [
    "import scipy as sp\n",
    "theta1=sp.pi\n",
    "theta2=sp.pi - 0.01\n",
    "p1=0\n",
    "p2=0\n",
    "\n",
    "HTML(double_pendulum(theta1=theta1, theta2=theta2, p1=p1, p2=p2))"
   ],
   "outputs": [],
   "metadata": {}
  }
 ],
 "metadata": {
  "orig_nbformat": 4,
  "language_info": {
   "name": "python",
   "version": "3.9.6",
   "mimetype": "text/x-python",
   "codemirror_mode": {
    "name": "ipython",
    "version": 3
   },
   "pygments_lexer": "ipython3",
   "nbconvert_exporter": "python",
   "file_extension": ".py"
  },
  "kernelspec": {
   "name": "python3",
   "display_name": "Python 3.9.6 64-bit ('venv': venv)"
  },
  "interpreter": {
   "hash": "6b2dbffeeb543fe20210c1fa0eda206cf7fe3cc9955e1a0562d80ff5e1913617"
  }
 },
 "nbformat": 4,
 "nbformat_minor": 2
}
